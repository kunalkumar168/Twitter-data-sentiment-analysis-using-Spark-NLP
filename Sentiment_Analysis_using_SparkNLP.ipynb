{
  "cells": [
    {
      "cell_type": "markdown",
      "metadata": {
        "id": "fkkn7pTxSfud"
      },
      "source": [
        "# Sentiment analysis of twitter data using Apache Spark\n",
        "\n",
      ],
      "id": "fkkn7pTxSfud"
    },
    {
      "cell_type": "code",
      "execution_count": 4,
      "metadata": {
        "id": "f58a9902"
      },
      "outputs": [],
      "source": [
        "# Importing all neccessary imports and datasets\n",
        "!pip install -q pyspark==3.3.1 spark-nlp\n",
        "import pandas as pd\n",
        "import numpy as np\n",
        "import json\n",
        "from pyspark.ml import Pipeline\n",
        "from pyspark.sql import SparkSession\n",
        "import pyspark.sql.functions as F\n",
        "from sparknlp.annotator import *\n",
        "from sparknlp.base import *\n",
        "import sparknlp\n",
        "from sparknlp.pretrained import PretrainedPipeline"
      ],
      "id": "f58a9902"
    },
    {
      "cell_type": "code",
      "execution_count": 5,
      "metadata": {
        "id": "2c768901"
      },
      "outputs": [],
      "source": [
        "spark = sparknlp.start()\n"
      ],
      "id": "2c768901"
    },
    {
      "cell_type": "code",
      "execution_count": 20,
      "metadata": {
        "colab": {
          "base_uri": "https://localhost:8080/"
        },
        "id": "xgyRt02a_YJm",
        "outputId": "ffbfb089-9cf8-465c-d757-1e42ba2b0c97"
      },
      "outputs": [
        {
          "output_type": "stream",
          "name": "stdout",
          "text": [
            "                                          clean_text  category\n",
            "0  when modi promised “minimum government maximum...  negative\n",
            "2  what did just say vote for modi  welcome bjp t...  positive\n",
            "3  asking his supporters prefix chowkidar their n...  positive\n",
            "4  answer who among these the most powerful world...  positive\n",
            "8  with upcoming election india saga going import...  positive\n"
          ]
        }
      ],
      "source": [
        "#importing input data and reading the text\n",
        "input_data = pd.read_csv(\"/content/Twitter_Data.csv\") # Imported from Kaggle : https://www.kaggle.com/datasets/saurabhshahane/twitter-sentiment-dataset\n",
        "\n",
        "#Removing NaN data from the text\n",
        "input_data = input_data.loc[input_data['clean_text'].isna()==False]\n",
        "input_data = input_data.loc[input_data['category'].isna()==False]\n",
        "\n",
        "#Changing the category column from numbers to string sentiments\n",
        "input_data['category'].mask(input_data['category'] == -1,'negative',  inplace=True)\n",
        "input_data['category'].mask(input_data['category'] == 0,'normal',  inplace=True)\n",
        "input_data['category'].mask(input_data['category'] == 1,'positive',  inplace=True)\n",
        "\n",
        "input_data = input_data.loc[input_data['category']!='normal'] #Only picking 'positive' and 'negative' data\n",
        "\n",
        "text_list = input_data['clean_text']\n",
        "\n",
        "print(input_data.head())"
      ],
      "id": "xgyRt02a_YJm"
    },
    {
      "cell_type": "code",
      "execution_count": 46,
      "metadata": {
        "colab": {
          "base_uri": "https://localhost:8080/"
        },
        "id": "4cc78daa",
        "outputId": "4766ed3c-4f79-4007-d6b1-bd1552eacfeb"
      },
      "outputs": [
        {
          "output_type": "stream",
          "name": "stderr",
          "text": [
            "[nltk_data] Downloading package stopwords to /root/nltk_data...\n",
            "[nltk_data]   Package stopwords is already up-to-date!\n"
          ]
        },
        {
          "output_type": "stream",
          "name": "stdout",
          "text": [
            "lemma_antbnc download started this may take some time.\n",
            "Approximate size to download 907.6 KB\n",
            "[OK!]\n",
            "tfhub_use download started this may take some time.\n",
            "Approximate size to download 923.7 MB\n",
            "[OK!]\n",
            "sentimentdl_use_twitter download started this may take some time.\n",
            "Approximate size to download 11.4 MB\n",
            "[OK!]\n"
          ]
        }
      ],
      "source": [
        "#Setting up Spark NLP pipeline and cleaning data\n",
        "\n",
        "import nltk\n",
        "nltk.download('stopwords')\n",
        "from nltk.corpus import stopwords\n",
        "from sparknlp.base import Finisher, DocumentAssembler, EmbeddingsFinisher\n",
        "from sparknlp.annotator import Tokenizer, Normalizer, LemmatizerModel, StopWordsCleaner, WordEmbeddingsModel\n",
        "from pyspark.sql.functions import concat_ws, regexp_replace\n",
        "\n",
        "\n",
        "english_stopwords = stopwords.words('english')\n",
        "\n",
        "documentAssembler = DocumentAssembler().setInputCol(\"text\").setOutputCol(\"document\")\n",
        "tokenizer = Tokenizer().setInputCols('document').setOutputCol('token')\n",
        "normalizer = Normalizer().setInputCols('token').setOutputCol('normalized').setLowercase(True)\n",
        "lemmatizer = LemmatizerModel.pretrained().setInputCols('normalized').setOutputCol('lemma')\n",
        "stopwords_cleaner = StopWordsCleaner().setInputCols('lemma').setOutputCol('clean_lemma').setCaseSensitive(False) \\\n",
        "                    .setStopWords(english_stopwords)\n",
        "finisher = Finisher().setInputCols('clean_lemma').setCleanAnnotations(False).setIncludeMetadata(False)\n",
        "\n",
        "df = spark.createDataFrame(pd.DataFrame({\"text\":text_list}))\n",
        "cleaned_df = Pipeline(stages = [documentAssembler, tokenizer, normalizer, \n",
        "                                lemmatizer, stopwords_cleaner, finisher]).fit(df).transform(df)\n",
        "\n",
        "cleaned_df2 = cleaned_df.select(concat_ws(\" \", \"finished_clean_lemma\").alias('cleaned_text'))\n",
        "df_new = cleaned_df2.select(regexp_replace(\"cleaned_text\", \"[^a-zA-Z_\\- ]+\", \"\").alias('text'))\n",
        "\n",
        "use = UniversalSentenceEncoder.pretrained(name=\"tfhub_use\", lang=\"en\")\\\n",
        "       .setInputCols(\"document\").setOutputCol(\"sentence_embeddings\")\n",
        "\n",
        "sentimentdl = SentimentDLModel.pretrained(name=\"sentimentdl_use_twitter\")\\\n",
        "                .setInputCols([\"sentence_embeddings\"]).setOutputCol(\"sentiment\")\n",
        "                \n",
        "nlpPipeline = Pipeline( stages = [ documentAssembler, use, sentimentdl ] )\n",
        "result = nlpPipeline.fit(df_new).transform(df_new)\n"
      ],
      "id": "4cc78daa"
    },
    {
      "cell_type": "code",
      "execution_count": 47,
      "metadata": {
        "colab": {
          "base_uri": "https://localhost:8080/"
        },
        "id": "CZRq4f3PBpdP",
        "outputId": "c71a563f-2d57-4b07-df97-7e5c5b50e39d"
      },
      "outputs": [
        {
          "output_type": "stream",
          "name": "stdout",
          "text": [
            "root\n",
            " |-- Tweets: string (nullable = true)\n",
            " |-- Sentiment: string (nullable = true)\n",
            "\n",
            "+-----------------------------------------------------------------------------------------------------------------------------------------------------------------------------------+---------+\n",
            "|Tweets                                                                                                                                                                             |Sentiment|\n",
            "+-----------------------------------------------------------------------------------------------------------------------------------------------------------------------------------+---------+\n",
            "|modi promise minimum government maximum governance expect begin difficult job reform state take year get justice state business exit psus temple                                   |negative |\n",
            "|say vote modi welcome bjp tell rahul main campaigner modi think modi relax                                                                                                         |positive |\n",
            "|ask supporter prefix chowkidar name modi great service confusion read crustal clear crass filthy nonsensical see abuse come chowkidars                                             |positive |\n",
            "|answer among powerful world leader today trump putin modi may                                                                                                                      |positive |\n",
            "|upcoming election india saga go important pair look current modi lead govt elect deal brexit combination weekly look juicy bear imho                                               |positive |\n",
            "|gandhi gay modi                                                                                                                                                                    |positive |\n",
            "|thing like demonetisation gst goods service taxthe upper caste would sort either view favourably say need give time caste like dalits muslim modi constituency                     |positive |\n",
            "|hope tuthukudi people would prefer honest well behave nationalist courageous likly minister modi cabinet vote benifit thuthukudi                                                   |negative |\n",
            "|calm water wheres modi wave                                                                                                                                                        |positive |\n",
            "|vote party leadershipwho take fast firm action none narendra damodardas modi bjp party                                                                                             |positive |\n",
            "|dont play word talk modi swamy relation guru say good chowkidar protect good mind tweeted dark side terrorism bright side well know                                                |positive |\n",
            "|write chowkidar mean anti modi try visit plz use anti                                                                                                                              |positive |\n",
            "|one recently say people vote modi anti national put gen hooda congress supporter jawans support modi anti national great thing hear                                                |positive |\n",
            "|firm belief leadership shri narendra modi bjp enter politics give form file nomination khammam parliamentary seat proceed khammam today                                            |positive |\n",
            "|sultanpur uttar pradesh loksabha candidate select pawan kumar pandey actually public want give vote modi current condidate popular district candidate bsp candidate sonbhadra singh|negative |\n",
            "|thiugh nehru alive still alive heart modi every failure nehru responsible                                                                                                          |positive |\n",
            "|development become mass movement modi govt economic social political empowerment life one witness positive paradigm shift new india                                                |positive |\n",
            "|three code modi crack give india huge foreign policy jumpstart via                                                                                                                 |positive |\n",
            "|modi govts slash indias education budget clear indicator dont care indias future congress president shri hand ensure increase budget gdp future india deserve                      |positive |\n",
            "|bear religion female deity worship misogynistic sadistic tradition totally point isits man make tradition write one religious lunatic support religion repressive                  |positive |\n",
            "+-----------------------------------------------------------------------------------------------------------------------------------------------------------------------------------+---------+\n",
            "only showing top 20 rows\n",
            "\n"
          ]
        }
      ],
      "source": [
        "output = result.select(result['document'].result[0].alias('Tweets'), result['sentiment'].result[0].alias('Sentiment'))\n",
        "output.printSchema()\n",
        "output.show(truncate = False)"
      ],
      "id": "CZRq4f3PBpdP"
    },
    {
      "cell_type": "code",
      "execution_count": 48,
      "metadata": {
        "colab": {
          "base_uri": "https://localhost:8080/"
        },
        "id": "j7J_IoCn6Okr",
        "outputId": "a65e0a2c-9f0d-4045-b7d1-fb57b8e013c4"
      },
      "outputs": [
        {
          "output_type": "stream",
          "name": "stderr",
          "text": [
            "/usr/local/lib/python3.8/dist-packages/sklearn/metrics/_classification.py:1318: UndefinedMetricWarning: Precision and F-score are ill-defined and being set to 0.0 in labels with no predicted samples. Use `zero_division` parameter to control this behavior.\n",
            "  _warn_prf(average, modifier, msg_start, len(result))\n",
            "/usr/local/lib/python3.8/dist-packages/sklearn/metrics/_classification.py:1318: UndefinedMetricWarning: Precision and F-score are ill-defined and being set to 0.0 in labels with no predicted samples. Use `zero_division` parameter to control this behavior.\n",
            "  _warn_prf(average, modifier, msg_start, len(result))\n",
            "/usr/local/lib/python3.8/dist-packages/sklearn/metrics/_classification.py:1318: UndefinedMetricWarning: Precision and F-score are ill-defined and being set to 0.0 in labels with no predicted samples. Use `zero_division` parameter to control this behavior.\n",
            "  _warn_prf(average, modifier, msg_start, len(result))\n"
          ]
        },
        {
          "output_type": "stream",
          "name": "stdout",
          "text": [
            "              precision    recall  f1-score   support\n",
            "\n",
            "    negative       0.31      0.46      0.37     24171\n",
            "     neutral       0.00      0.00      0.00      3379\n",
            "    positive       0.79      0.72      0.75     80202\n",
            "\n",
            "    accuracy                           0.64    107752\n",
            "   macro avg       0.37      0.39      0.38    107752\n",
            "weighted avg       0.66      0.64      0.64    107752\n",
            "\n",
            "0.6361552453782761\n"
          ]
        }
      ],
      "source": [
        "from sklearn.metrics import accuracy_score, classification_report\n",
        "y_pred = result.select(result['sentiment'].result[0].alias('Sentiments')).toPandas()\n",
        "y_test = input_data['category']\n",
        "\n",
        "common_df = pd.DataFrame({'y_pred':y_pred['Sentiments'].tolist(), 'y_test':y_test.tolist()})\n",
        "common_df['y_pred'] = common_df.apply(lambda x:str(x['y_pred']), axis = 1)\n",
        "common_df['y_test'] = common_df.apply(lambda x:str(x['y_test']), axis = 1)\n",
        "\n",
        "filtered_df = common_df.loc[common_df['y_pred']!='None']\n",
        "filtered_df = filtered_df.loc[common_df['y_test']!='None']\n",
        "\n",
        "print(classification_report(filtered_df.y_pred, filtered_df.y_test))\n",
        "print(accuracy_score(filtered_df.y_pred, filtered_df.y_test))"
      ],
      "id": "j7J_IoCn6Okr"
    }
  ],
  "metadata": {
    "accelerator": "TPU",
    "colab": {
      "provenance": []
    },
    "gpuClass": "standard",
    "kernelspec": {
      "display_name": "Python 3 (ipykernel)",
      "language": "python",
      "name": "python3"
    },
    "language_info": {
      "codemirror_mode": {
        "name": "ipython",
        "version": 3
      },
      "file_extension": ".py",
      "mimetype": "text/x-python",
      "name": "python",
      "nbconvert_exporter": "python",
      "pygments_lexer": "ipython3",
      "version": "3.9.12"
    }
  },
  "nbformat": 4,
  "nbformat_minor": 5
}
